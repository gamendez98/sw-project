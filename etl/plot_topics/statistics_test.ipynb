{
 "cells": [
  {
   "cell_type": "markdown",
   "id": "64330d4d-8a89-49cc-a32f-c3a77e7b1d02",
   "metadata": {},
   "source": [
    "# Plot Generation - Paper/Topic Statistics"
   ]
  },
  {
   "cell_type": "markdown",
   "id": "4fbf78e2-6fb7-454b-bd0f-5a868a009881",
   "metadata": {},
   "source": [
    "Importing libraries."
   ]
  },
  {
   "cell_type": "code",
   "execution_count": 20,
   "id": "ea36acda-a5d5-475a-997f-0e91a5b8be29",
   "metadata": {},
   "outputs": [],
   "source": [
    "import random\n",
    "import plotly.express as px\n",
    "from neo4j import GraphDatabase\n",
    "from pyvis.network import Network"
   ]
  },
  {
   "cell_type": "markdown",
   "id": "30b47518-950f-4e4e-ab6e-d345331f3aa8",
   "metadata": {},
   "source": [
    "Neo4j location and authentication data."
   ]
  },
  {
   "cell_type": "code",
   "execution_count": 21,
   "id": "6320743f-7a7b-4acc-ba7a-d3868effae23",
   "metadata": {},
   "outputs": [],
   "source": [
    "URI = \"neo4j://localhost:7687/\"\n",
    "AUTH = (\"neo4j\", \"neo4j\")\n",
    "driver = GraphDatabase.driver(URI, auth=AUTH)"
   ]
  },
  {
   "cell_type": "markdown",
   "id": "4d10d6f8-15ac-48ca-a3d4-f5b9e3d44bdd",
   "metadata": {},
   "source": [
    "Function to run a CYPHER query."
   ]
  },
  {
   "cell_type": "code",
   "execution_count": 22,
   "id": "60663296-9c65-42e1-97c0-d7dd55ecffd9",
   "metadata": {},
   "outputs": [],
   "source": [
    "def run_query(query, parameters=None):\n",
    "    with driver.session() as session:\n",
    "        result = session.run(query, parameters)\n",
    "        records = [record for record in result]\n",
    "        return records"
   ]
  },
  {
   "cell_type": "markdown",
   "id": "01601554-0b33-4db2-b512-b730903b030c",
   "metadata": {},
   "source": [
    "## Barplot Generation"
   ]
  },
  {
   "cell_type": "markdown",
   "id": "3cf11cff-fbcc-4e35-a397-97e58e7fc0bb",
   "metadata": {},
   "source": [
    "We obtain the top 30 topics with the biggest amount of pubications associated with them."
   ]
  },
  {
   "cell_type": "code",
   "execution_count": 23,
   "id": "ed274bef-04c1-4296-b344-8eae0cd767e7",
   "metadata": {},
   "outputs": [],
   "source": [
    "query_all_topics = \"\"\"\n",
    "MATCH (n:ns0__Topic)-[r:ns0__hasPublication]->(i:ns0__Publication)\n",
    "RETURN n.uri AS topicUri, COUNT(i) AS paperCount\n",
    "ORDER BY paperCount DESC\n",
    "LIMIT 30\n",
    "\"\"\""
   ]
  },
  {
   "cell_type": "code",
   "execution_count": 24,
   "id": "54098bb8-7e0a-49a7-a6e5-7fdcb7af134e",
   "metadata": {},
   "outputs": [],
   "source": [
    "result = run_query(query_all_topics)\n",
    "result = [dict(r) for r in result]"
   ]
  },
  {
   "cell_type": "markdown",
   "id": "d9137783-9fb3-4c31-9074-305fe7520992",
   "metadata": {},
   "source": [
    "Organizing the results in a DataFrame to facilitate plotting."
   ]
  },
  {
   "cell_type": "code",
   "execution_count": 25,
   "id": "a16bd173-5904-45a3-8c70-671813c5e6ff",
   "metadata": {},
   "outputs": [
    {
     "data": {
      "text/html": [
       "<div>\n",
       "<style scoped>\n",
       "    .dataframe tbody tr th:only-of-type {\n",
       "        vertical-align: middle;\n",
       "    }\n",
       "\n",
       "    .dataframe tbody tr th {\n",
       "        vertical-align: top;\n",
       "    }\n",
       "\n",
       "    .dataframe thead th {\n",
       "        text-align: right;\n",
       "    }\n",
       "</style>\n",
       "<table border=\"1\" class=\"dataframe\">\n",
       "  <thead>\n",
       "    <tr style=\"text-align: right;\">\n",
       "      <th></th>\n",
       "      <th>topicUri</th>\n",
       "      <th>paperCount</th>\n",
       "      <th>topicName</th>\n",
       "    </tr>\n",
       "  </thead>\n",
       "  <tbody>\n",
       "    <tr>\n",
       "      <th>0</th>\n",
       "      <td>https://www.wikidata.org/wiki/Q7020694</td>\n",
       "      <td>4940</td>\n",
       "      <td>Q7020694</td>\n",
       "    </tr>\n",
       "    <tr>\n",
       "      <th>1</th>\n",
       "      <td>https://www.wikidata.org/wiki/Q6517860</td>\n",
       "      <td>3530</td>\n",
       "      <td>Q6517860</td>\n",
       "    </tr>\n",
       "    <tr>\n",
       "      <th>2</th>\n",
       "      <td>https://www.wikidata.org/wiki/Q5330456</td>\n",
       "      <td>3004</td>\n",
       "      <td>Q5330456</td>\n",
       "    </tr>\n",
       "    <tr>\n",
       "      <th>3</th>\n",
       "      <td>https://www.wikidata.org/wiki/Q4619</td>\n",
       "      <td>2847</td>\n",
       "      <td>Q4619</td>\n",
       "    </tr>\n",
       "    <tr>\n",
       "      <th>4</th>\n",
       "      <td>https://www.wikidata.org/wiki/Q7153055</td>\n",
       "      <td>2678</td>\n",
       "      <td>Q7153055</td>\n",
       "    </tr>\n",
       "  </tbody>\n",
       "</table>\n",
       "</div>"
      ],
      "text/plain": [
       "                                 topicUri  paperCount topicName\n",
       "0  https://www.wikidata.org/wiki/Q7020694        4940  Q7020694\n",
       "1  https://www.wikidata.org/wiki/Q6517860        3530  Q6517860\n",
       "2  https://www.wikidata.org/wiki/Q5330456        3004  Q5330456\n",
       "3     https://www.wikidata.org/wiki/Q4619        2847     Q4619\n",
       "4  https://www.wikidata.org/wiki/Q7153055        2678  Q7153055"
      ]
     },
     "execution_count": 25,
     "metadata": {},
     "output_type": "execute_result"
    }
   ],
   "source": [
    "df = pd.DataFrame(result)\n",
    "df[\"topicName\"] = df[\"topicUri\"].apply(lambda x: x.split(\"/\")[-1])\n",
    "df.head()"
   ]
  },
  {
   "cell_type": "code",
   "execution_count": 38,
   "id": "e781299e-39f9-40a8-ab84-6110b08b4460",
   "metadata": {},
   "outputs": [
    {
     "data": {
      "text/html": [
       "<div>\n",
       "<style scoped>\n",
       "    .dataframe tbody tr th:only-of-type {\n",
       "        vertical-align: middle;\n",
       "    }\n",
       "\n",
       "    .dataframe tbody tr th {\n",
       "        vertical-align: top;\n",
       "    }\n",
       "\n",
       "    .dataframe thead th {\n",
       "        text-align: right;\n",
       "    }\n",
       "</style>\n",
       "<table border=\"1\" class=\"dataframe\">\n",
       "  <thead>\n",
       "    <tr style=\"text-align: right;\">\n",
       "      <th></th>\n",
       "      <th>topicUri</th>\n",
       "      <th>paperCount</th>\n",
       "      <th>topicName</th>\n",
       "    </tr>\n",
       "  </thead>\n",
       "  <tbody>\n",
       "    <tr>\n",
       "      <th>0</th>\n",
       "      <td>https://www.wikidata.org/wiki/Q7020694</td>\n",
       "      <td>4940</td>\n",
       "      <td>Q7020694</td>\n",
       "    </tr>\n",
       "    <tr>\n",
       "      <th>1</th>\n",
       "      <td>https://www.wikidata.org/wiki/Q6517860</td>\n",
       "      <td>3530</td>\n",
       "      <td>Q6517860</td>\n",
       "    </tr>\n",
       "    <tr>\n",
       "      <th>2</th>\n",
       "      <td>https://www.wikidata.org/wiki/Q5330456</td>\n",
       "      <td>3004</td>\n",
       "      <td>Q5330456</td>\n",
       "    </tr>\n",
       "    <tr>\n",
       "      <th>3</th>\n",
       "      <td>https://www.wikidata.org/wiki/Q4619</td>\n",
       "      <td>2847</td>\n",
       "      <td>Q4619</td>\n",
       "    </tr>\n",
       "    <tr>\n",
       "      <th>4</th>\n",
       "      <td>https://www.wikidata.org/wiki/Q7153055</td>\n",
       "      <td>2678</td>\n",
       "      <td>Q7153055</td>\n",
       "    </tr>\n",
       "    <tr>\n",
       "      <th>5</th>\n",
       "      <td>https://www.wikidata.org/wiki/Q4884546</td>\n",
       "      <td>2626</td>\n",
       "      <td>Q4884546</td>\n",
       "    </tr>\n",
       "    <tr>\n",
       "      <th>6</th>\n",
       "      <td>https://www.wikidata.org/wiki/Q7019560</td>\n",
       "      <td>2375</td>\n",
       "      <td>Q7019560</td>\n",
       "    </tr>\n",
       "    <tr>\n",
       "      <th>7</th>\n",
       "      <td>https://www.wikidata.org/wiki/Q6752025</td>\n",
       "      <td>2203</td>\n",
       "      <td>Q6752025</td>\n",
       "    </tr>\n",
       "    <tr>\n",
       "      <th>8</th>\n",
       "      <td>https://www.wikidata.org/wiki/Q7211696</td>\n",
       "      <td>1928</td>\n",
       "      <td>Q7211696</td>\n",
       "    </tr>\n",
       "    <tr>\n",
       "      <th>9</th>\n",
       "      <td>https://www.wikidata.org/wiki/Q8790102</td>\n",
       "      <td>1924</td>\n",
       "      <td>Q8790102</td>\n",
       "    </tr>\n",
       "    <tr>\n",
       "      <th>10</th>\n",
       "      <td>https://www.wikidata.org/wiki/Q1343123</td>\n",
       "      <td>1749</td>\n",
       "      <td>Q1343123</td>\n",
       "    </tr>\n",
       "    <tr>\n",
       "      <th>11</th>\n",
       "      <td>https://www.wikidata.org/wiki/Q7145042</td>\n",
       "      <td>1678</td>\n",
       "      <td>Q7145042</td>\n",
       "    </tr>\n",
       "    <tr>\n",
       "      <th>12</th>\n",
       "      <td>https://www.wikidata.org/wiki/Q7214259</td>\n",
       "      <td>1677</td>\n",
       "      <td>Q7214259</td>\n",
       "    </tr>\n",
       "    <tr>\n",
       "      <th>13</th>\n",
       "      <td>https://www.wikidata.org/wiki/Q7129786</td>\n",
       "      <td>1642</td>\n",
       "      <td>Q7129786</td>\n",
       "    </tr>\n",
       "    <tr>\n",
       "      <th>14</th>\n",
       "      <td>https://www.wikidata.org/wiki/Q7457477</td>\n",
       "      <td>1571</td>\n",
       "      <td>Q7457477</td>\n",
       "    </tr>\n",
       "    <tr>\n",
       "      <th>15</th>\n",
       "      <td>https://www.wikidata.org/wiki/Q6491658</td>\n",
       "      <td>1530</td>\n",
       "      <td>Q6491658</td>\n",
       "    </tr>\n",
       "    <tr>\n",
       "      <th>16</th>\n",
       "      <td>https://www.wikidata.org/wiki/Q7020589</td>\n",
       "      <td>1486</td>\n",
       "      <td>Q7020589</td>\n",
       "    </tr>\n",
       "    <tr>\n",
       "      <th>17</th>\n",
       "      <td>https://www.wikidata.org/wiki/Q9494306</td>\n",
       "      <td>1478</td>\n",
       "      <td>Q9494306</td>\n",
       "    </tr>\n",
       "    <tr>\n",
       "      <th>18</th>\n",
       "      <td>https://www.wikidata.org/wiki/Q7215296</td>\n",
       "      <td>1442</td>\n",
       "      <td>Q7215296</td>\n",
       "    </tr>\n",
       "    <tr>\n",
       "      <th>19</th>\n",
       "      <td>http://dbpedia.org/resource/Algorithm</td>\n",
       "      <td>1430</td>\n",
       "      <td>Algorithm</td>\n",
       "    </tr>\n",
       "    <tr>\n",
       "      <th>20</th>\n",
       "      <td>https://www.wikidata.org/wiki/Q7217368</td>\n",
       "      <td>1416</td>\n",
       "      <td>Q7217368</td>\n",
       "    </tr>\n",
       "    <tr>\n",
       "      <th>21</th>\n",
       "      <td>https://www.wikidata.org/wiki/Q6584877</td>\n",
       "      <td>1392</td>\n",
       "      <td>Q6584877</td>\n",
       "    </tr>\n",
       "    <tr>\n",
       "      <th>22</th>\n",
       "      <td>https://www.wikidata.org/wiki/Q7036097</td>\n",
       "      <td>1387</td>\n",
       "      <td>Q7036097</td>\n",
       "    </tr>\n",
       "    <tr>\n",
       "      <th>23</th>\n",
       "      <td>https://www.wikidata.org/wiki/Q1457258</td>\n",
       "      <td>1358</td>\n",
       "      <td>Q1457258</td>\n",
       "    </tr>\n",
       "    <tr>\n",
       "      <th>24</th>\n",
       "      <td>https://www.wikidata.org/wiki/Q558331</td>\n",
       "      <td>1320</td>\n",
       "      <td>Q558331</td>\n",
       "    </tr>\n",
       "    <tr>\n",
       "      <th>25</th>\n",
       "      <td>http://dbpedia.org/resource/Result</td>\n",
       "      <td>1303</td>\n",
       "      <td>Result</td>\n",
       "    </tr>\n",
       "    <tr>\n",
       "      <th>26</th>\n",
       "      <td>https://www.wikidata.org/wiki/Q6553131</td>\n",
       "      <td>1251</td>\n",
       "      <td>Q6553131</td>\n",
       "    </tr>\n",
       "    <tr>\n",
       "      <th>27</th>\n",
       "      <td>https://www.wikidata.org/wiki/Q7152477</td>\n",
       "      <td>1239</td>\n",
       "      <td>Q7152477</td>\n",
       "    </tr>\n",
       "    <tr>\n",
       "      <th>28</th>\n",
       "      <td>http://dbpedia.org/resource/Data</td>\n",
       "      <td>1198</td>\n",
       "      <td>Data</td>\n",
       "    </tr>\n",
       "    <tr>\n",
       "      <th>29</th>\n",
       "      <td>https://www.wikidata.org/wiki/Q6436127</td>\n",
       "      <td>1195</td>\n",
       "      <td>Q6436127</td>\n",
       "    </tr>\n",
       "  </tbody>\n",
       "</table>\n",
       "</div>"
      ],
      "text/plain": [
       "                                  topicUri  paperCount  topicName\n",
       "0   https://www.wikidata.org/wiki/Q7020694        4940   Q7020694\n",
       "1   https://www.wikidata.org/wiki/Q6517860        3530   Q6517860\n",
       "2   https://www.wikidata.org/wiki/Q5330456        3004   Q5330456\n",
       "3      https://www.wikidata.org/wiki/Q4619        2847      Q4619\n",
       "4   https://www.wikidata.org/wiki/Q7153055        2678   Q7153055\n",
       "5   https://www.wikidata.org/wiki/Q4884546        2626   Q4884546\n",
       "6   https://www.wikidata.org/wiki/Q7019560        2375   Q7019560\n",
       "7   https://www.wikidata.org/wiki/Q6752025        2203   Q6752025\n",
       "8   https://www.wikidata.org/wiki/Q7211696        1928   Q7211696\n",
       "9   https://www.wikidata.org/wiki/Q8790102        1924   Q8790102\n",
       "10  https://www.wikidata.org/wiki/Q1343123        1749   Q1343123\n",
       "11  https://www.wikidata.org/wiki/Q7145042        1678   Q7145042\n",
       "12  https://www.wikidata.org/wiki/Q7214259        1677   Q7214259\n",
       "13  https://www.wikidata.org/wiki/Q7129786        1642   Q7129786\n",
       "14  https://www.wikidata.org/wiki/Q7457477        1571   Q7457477\n",
       "15  https://www.wikidata.org/wiki/Q6491658        1530   Q6491658\n",
       "16  https://www.wikidata.org/wiki/Q7020589        1486   Q7020589\n",
       "17  https://www.wikidata.org/wiki/Q9494306        1478   Q9494306\n",
       "18  https://www.wikidata.org/wiki/Q7215296        1442   Q7215296\n",
       "19   http://dbpedia.org/resource/Algorithm        1430  Algorithm\n",
       "20  https://www.wikidata.org/wiki/Q7217368        1416   Q7217368\n",
       "21  https://www.wikidata.org/wiki/Q6584877        1392   Q6584877\n",
       "22  https://www.wikidata.org/wiki/Q7036097        1387   Q7036097\n",
       "23  https://www.wikidata.org/wiki/Q1457258        1358   Q1457258\n",
       "24   https://www.wikidata.org/wiki/Q558331        1320    Q558331\n",
       "25      http://dbpedia.org/resource/Result        1303     Result\n",
       "26  https://www.wikidata.org/wiki/Q6553131        1251   Q6553131\n",
       "27  https://www.wikidata.org/wiki/Q7152477        1239   Q7152477\n",
       "28        http://dbpedia.org/resource/Data        1198       Data\n",
       "29  https://www.wikidata.org/wiki/Q6436127        1195   Q6436127"
      ]
     },
     "execution_count": 38,
     "metadata": {},
     "output_type": "execute_result"
    }
   ],
   "source": [
    "df"
   ]
  },
  {
   "cell_type": "markdown",
   "id": "7ec9fc35-6f47-46c0-bbe1-92cd2a2c3d18",
   "metadata": {},
   "source": [
    "Generating the barplot."
   ]
  },
  {
   "cell_type": "code",
   "execution_count": 26,
   "id": "946c08bc-69de-4038-85f4-5af2e11b8bf3",
   "metadata": {},
   "outputs": [],
   "source": [
    "fig = px.bar(df, x=\"topicName\", y=\"paperCount\", color=\"paperCount\", color_continuous_scale=\"viridis\")\n",
    "fig.write_html(\"barplot.html\")"
   ]
  },
  {
   "cell_type": "markdown",
   "id": "91f6daf0-2002-4665-9e20-7392bc024284",
   "metadata": {},
   "source": [
    "## Graph Generation"
   ]
  },
  {
   "cell_type": "markdown",
   "id": "514d05fc-0402-4dfe-a8be-612c038c2e10",
   "metadata": {},
   "source": [
    "First, we must obtain for every topic, the amount of publications associated with it."
   ]
  },
  {
   "cell_type": "code",
   "execution_count": 39,
   "id": "f6e1cad6-1eae-40eb-856a-cd09cef65e80",
   "metadata": {},
   "outputs": [
    {
     "data": {
      "text/plain": [
       "[{'topicUri': 'https://www.wikidata.org/wiki/Q9205879', 'paperCount': 49},\n",
       " {'topicUri': 'https://www.wikidata.org/wiki/Q7479291', 'paperCount': 463},\n",
       " {'topicUri': 'https://www.wikidata.org/wiki/Q7022256', 'paperCount': 66},\n",
       " {'topicUri': 'https://www.wikidata.org/wiki/Q8168518', 'paperCount': 59},\n",
       " {'topicUri': 'https://www.wikidata.org/wiki/Q466', 'paperCount': 112},\n",
       " {'topicUri': 'https://www.wikidata.org/wiki/Q7214259', 'paperCount': 1677},\n",
       " {'topicUri': 'http://dbpedia.org/resource/Corollary', 'paperCount': 22},\n",
       " {'topicUri': 'http://dbpedia.org/resource/Usability_goals', 'paperCount': 1},\n",
       " {'topicUri': 'https://www.wikidata.org/wiki/Q1343123', 'paperCount': 1749},\n",
       " {'topicUri': 'http://dbpedia.org/resource/Individual', 'paperCount': 78}]"
      ]
     },
     "execution_count": 39,
     "metadata": {},
     "output_type": "execute_result"
    }
   ],
   "source": [
    "first_query = \"\"\"\n",
    "MATCH (t:ns0__Topic)-[:ns0__hasPublication]->(p:ns0__Publication)\n",
    "RETURN DISTINCT t.uri AS topicUri, COUNT(p) AS paperCount\n",
    "\"\"\"\n",
    "\n",
    "result = run_query(first_query)\n",
    "result = [dict(r) for r in result]\n",
    "result[:10]"
   ]
  },
  {
   "cell_type": "code",
   "execution_count": 40,
   "id": "89ef888d-0493-42d7-b3fb-feaddbd8fd72",
   "metadata": {},
   "outputs": [
    {
     "data": {
      "text/plain": [
       "479"
      ]
     },
     "execution_count": 40,
     "metadata": {},
     "output_type": "execute_result"
    }
   ],
   "source": [
    "len([entry for entry in result if entry[\"paperCount\"] > 100])"
   ]
  },
  {
   "cell_type": "markdown",
   "id": "7d90f92c-9966-4309-ab24-65d0572fabaf",
   "metadata": {},
   "source": [
    "With this second query, we will obtain for every pair of topics, how many publications in common they have. Several optimization methods had to be included, since this query handles a lot of data, e.g.:\n",
    "\n",
    "- `db.awaitIndexes()` ensures that all indexes are available before executing the rest of the query.\n",
    "- `UNWIND` topics as topic1 and topic2 essentially help us creating a cartesian product of the topics list with itself for each publication, generating pairs of topics.\n",
    "- `CASE WHEN topic1 < topic2` and `WHERE filteredSharedPapers > 0` ensures that each pair is only considered once."
   ]
  },
  {
   "cell_type": "code",
   "execution_count": 28,
   "id": "29447de2-6381-4bcc-bab5-8285b21f5a7e",
   "metadata": {
    "scrolled": true
   },
   "outputs": [
    {
     "data": {
      "text/plain": [
       "[{'topic1': 'https://www.wikidata.org/wiki/Q5330456',\n",
       "  'topic2': 'https://www.wikidata.org/wiki/Q6517860',\n",
       "  'sharedPapers': 2812},\n",
       " {'topic1': 'https://www.wikidata.org/wiki/Q6517860',\n",
       "  'topic2': 'https://www.wikidata.org/wiki/Q7020694',\n",
       "  'sharedPapers': 2806},\n",
       " {'topic1': 'https://www.wikidata.org/wiki/Q4619',\n",
       "  'topic2': 'https://www.wikidata.org/wiki/Q7020694',\n",
       "  'sharedPapers': 2622},\n",
       " {'topic1': 'https://www.wikidata.org/wiki/Q7020694',\n",
       "  'topic2': 'https://www.wikidata.org/wiki/Q7153055',\n",
       "  'sharedPapers': 2587},\n",
       " {'topic1': 'https://www.wikidata.org/wiki/Q4884546',\n",
       "  'topic2': 'https://www.wikidata.org/wiki/Q5330456',\n",
       "  'sharedPapers': 2482},\n",
       " {'topic1': 'https://www.wikidata.org/wiki/Q4884546',\n",
       "  'topic2': 'https://www.wikidata.org/wiki/Q6517860',\n",
       "  'sharedPapers': 2385},\n",
       " {'topic1': 'https://www.wikidata.org/wiki/Q7019560',\n",
       "  'topic2': 'https://www.wikidata.org/wiki/Q7020694',\n",
       "  'sharedPapers': 2346},\n",
       " {'topic1': 'https://www.wikidata.org/wiki/Q5330456',\n",
       "  'topic2': 'https://www.wikidata.org/wiki/Q7020694',\n",
       "  'sharedPapers': 2181},\n",
       " {'topic1': 'https://www.wikidata.org/wiki/Q6517860',\n",
       "  'topic2': 'https://www.wikidata.org/wiki/Q7153055',\n",
       "  'sharedPapers': 2089},\n",
       " {'topic1': 'https://www.wikidata.org/wiki/Q6517860',\n",
       "  'topic2': 'https://www.wikidata.org/wiki/Q6752025',\n",
       "  'sharedPapers': 2072}]"
      ]
     },
     "execution_count": 28,
     "metadata": {},
     "output_type": "execute_result"
    }
   ],
   "source": [
    "second_query = \"\"\"\n",
    "CALL db.awaitIndexes()\n",
    "MATCH (p:ns0__Publication)-[:ns0__belongToTopic]->(t:ns0__Topic)\n",
    "WITH p, collect(distinct t.uri) as topics\n",
    "UNWIND topics as topic1\n",
    "UNWIND topics as topic2\n",
    "WITH topic1, topic2, count(p) as sharedPapers\n",
    "WITH topic1, topic2, sharedPapers, CASE WHEN topic1 < topic2 THEN sharedPapers ELSE 0 END AS filteredSharedPapers\n",
    "WITH topic1, topic2, filteredSharedPapers\n",
    "WHERE filteredSharedPapers > 0\n",
    "RETURN topic1, topic2, filteredSharedPapers AS sharedPapers\n",
    "ORDER BY sharedPapers DESC\n",
    "\"\"\"\n",
    "\n",
    "result2 = run_query(second_query)\n",
    "result2 = [dict(r) for r in result2]\n",
    "result2[:10]"
   ]
  },
  {
   "cell_type": "code",
   "execution_count": 36,
   "id": "50b52278-31b8-4b53-90aa-0613436847ef",
   "metadata": {},
   "outputs": [
    {
     "data": {
      "text/plain": [
       "6921"
      ]
     },
     "execution_count": 36,
     "metadata": {},
     "output_type": "execute_result"
    }
   ],
   "source": [
    "len([entry for entry in result2 if entry[\"sharedPapers\"] > 100])"
   ]
  },
  {
   "cell_type": "markdown",
   "id": "12240990-98c3-4713-9c63-538c2613660c",
   "metadata": {},
   "source": [
    "We see a total of almost 30k topics, and around 3 million connections. This is way too much for a graph."
   ]
  },
  {
   "cell_type": "code",
   "execution_count": 41,
   "id": "5709fbf8-003e-43db-94be-245b759e377a",
   "metadata": {},
   "outputs": [
    {
     "data": {
      "text/plain": [
       "(29882, 3007169)"
      ]
     },
     "execution_count": 41,
     "metadata": {},
     "output_type": "execute_result"
    }
   ],
   "source": [
    "len(result), len(result2)"
   ]
  },
  {
   "cell_type": "markdown",
   "id": "737e8ad2-9379-4a1c-8c75-2d09f15dd4cb",
   "metadata": {},
   "source": [
    "The following function help us choosing what nodes to plot into the graph. It will select the top `k` most popular topics, adding the relationship between them. If `include_random` is set to True, it will also add `k` random topics into the graph."
   ]
  },
  {
   "cell_type": "code",
   "execution_count": 30,
   "id": "8744e4b7-598c-4f3f-a789-5ec3cfe863de",
   "metadata": {},
   "outputs": [],
   "source": [
    "def create_graph_lists(sorted_result, k = 25, include_random = False):\n",
    "    top_k_topics = [entry['topicUri'] for entry in sorted_result[:k]]\n",
    "    topic_paper_counts = sorted_result[:k]\n",
    "    \n",
    "    shared_papers = [\n",
    "        relation for relation in result2\n",
    "        if relation['topic1'] in top_k_topics and relation['topic2'] in top_k_topics\n",
    "    ]\n",
    "\n",
    "    if include_random:\n",
    "        all_topic_uris = [entry['topicUri'] for entry in sorted_result]\n",
    "        remaining_topic_uris = [uri for uri in all_topic_uris if uri not in top_k_topics]\n",
    "        random_k_topics = random.sample(remaining_topic_uris, k)\n",
    "        random_k_topics_full = [entry for entry in sorted_result if entry[\"topicUri\"] in random_k_topics]\n",
    "        \n",
    "        filtered_relations_random_k = [\n",
    "            relation for relation in result2\n",
    "            if relation['topic1'] in random_k_topics and relation['topic2'] in random_k_topics\n",
    "        ]\n",
    "        \n",
    "        filtered_relations_mixed = [\n",
    "            relation for relation in result2\n",
    "            if (relation['topic1'] in top_k_topics and relation['topic2'] in random_k_topics) or\n",
    "               (relation['topic1'] in random_k_topics and relation['topic2'] in top_k_topics)\n",
    "        ]\n",
    "        \n",
    "        topic_paper_counts += random_k_topics_full\n",
    "        shared_papers += filtered_relations_random_k + filtered_relations_mixed\n",
    "\n",
    "    return topic_paper_counts, shared_papers"
   ]
  },
  {
   "cell_type": "markdown",
   "id": "9bf50c00-2bba-45a8-811c-22ba04144445",
   "metadata": {},
   "source": [
    "We will choose the top 20 most popular topics."
   ]
  },
  {
   "cell_type": "code",
   "execution_count": 31,
   "id": "92858b39-65a5-4903-a864-643c037c2021",
   "metadata": {},
   "outputs": [],
   "source": [
    "sorted_result = sorted(result, key=lambda x: x['paperCount'], reverse=True)\n",
    "topic_paper_counts, shared_papers = create_graph_lists(sorted_result, k = 20)"
   ]
  },
  {
   "cell_type": "markdown",
   "id": "47aa034f-0996-4ddc-8653-f84272622577",
   "metadata": {},
   "source": [
    "Now we can generate the graph. It will show up in the notebook, and it will also generate the html file."
   ]
  },
  {
   "cell_type": "code",
   "execution_count": 33,
   "id": "fd799d8a-f2e9-4a57-8e67-533fb26e077a",
   "metadata": {},
   "outputs": [
    {
     "name": "stdout",
     "output_type": "stream",
     "text": [
      "nx.html\n"
     ]
    },
    {
     "data": {
      "text/html": [
       "\n",
       "        <iframe\n",
       "            width=\"100%\"\n",
       "            height=\"750px\"\n",
       "            src=\"nx.html\"\n",
       "            frameborder=\"0\"\n",
       "            allowfullscreen\n",
       "            \n",
       "        ></iframe>\n",
       "        "
      ],
      "text/plain": [
       "<IPython.lib.display.IFrame at 0x7b2efa0eff10>"
      ]
     },
     "execution_count": 33,
     "metadata": {},
     "output_type": "execute_result"
    }
   ],
   "source": [
    "nt = Network(notebook=True, height=\"750px\", width=\"100%\", select_menu=True, cdn_resources='remote')\n",
    "\n",
    "color_palette = ['#ff9b9b', '#ffc19b', '#ffefac', '#c0f1ab', '#b1d4e0']\n",
    "for i, topic in enumerate(topic_paper_counts):\n",
    "    nt.add_node(topic['topicUri'].split(\"/\")[-1], \n",
    "                label = topic['topicUri'].split(\"/\")[-1],\n",
    "                value = topic['paperCount'],\n",
    "                title = \"<a href={link}>{title}</a>\".format(link=topic['topicUri'], title=topic['topicUri'].split(\"/\")[-1]) + \"\\nPaper Count: {paperCount}\".format(paperCount=topic[\"paperCount\"]),\n",
    "                color=color_palette[i % len(color_palette)])\n",
    "\n",
    "for connection in shared_papers:\n",
    "    nt.add_edge(connection['topic1'].split(\"/\")[-1], connection['topic2'].split(\"/\")[-1], value=connection['sharedPapers'], label = str(connection['sharedPapers']))\n",
    "\n",
    "nt.set_options(\"\"\"\n",
    "const options = {\n",
    "  \"edges\": {\n",
    "    \"color\": {\n",
    "      \"inherit\": true,\n",
    "      \"opacity\": 0.8\n",
    "    },\n",
    "    \"font\": {\n",
    "      \"size\": 8\n",
    "    },\n",
    "    \"scaling\": {\n",
    "      \"label\": {\n",
    "        \"min\": 5,\n",
    "        \"max\": 10\n",
    "      }\n",
    "    },\n",
    "    \"selfReferenceSize\": null,\n",
    "    \"selfReference\": {\n",
    "      \"angle\": 0.7853981633974483\n",
    "    },\n",
    "    \"smooth\": {\n",
    "      \"forceDirection\": \"none\"\n",
    "    }\n",
    "  },\n",
    "  \"physics\": {\n",
    "    \"enabled\": false,\n",
    "    \"minVelocity\": 0.75\n",
    "  }\n",
    "}\n",
    "\"\"\")\n",
    "\n",
    "nt.show('nx.html')"
   ]
  },
  {
   "cell_type": "code",
   "execution_count": null,
   "id": "6d82a9f8-4e20-46bc-8a16-7bb12254c75e",
   "metadata": {},
   "outputs": [],
   "source": []
  }
 ],
 "metadata": {
  "kernelspec": {
   "display_name": "Python 3 (ipykernel)",
   "language": "python",
   "name": "python3"
  },
  "language_info": {
   "codemirror_mode": {
    "name": "ipython",
    "version": 3
   },
   "file_extension": ".py",
   "mimetype": "text/x-python",
   "name": "python",
   "nbconvert_exporter": "python",
   "pygments_lexer": "ipython3",
   "version": "3.10.12"
  }
 },
 "nbformat": 4,
 "nbformat_minor": 5
}
